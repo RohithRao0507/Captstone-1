{
 "cells": [
  {
   "cell_type": "code",
   "execution_count": 1,
   "id": "230a8c61",
   "metadata": {},
   "outputs": [],
   "source": [
    "import numpy as np\n",
    "import pandas as pd\n",
    "from imblearn.over_sampling import SMOTE\n",
    "from imblearn.over_sampling import ADASYN \n",
    "from sklearn.model_selection import GridSearchCV\n",
    "from sklearn.svm import SVC\n",
    "from sklearn import datasets\n",
    "from sklearn.preprocessing import LabelEncoder  # For categorical data\n",
    "from sklearn.preprocessing import OneHotEncoder\n",
    "from sklearn.model_selection import train_test_split\n",
    "from sklearn.metrics import recall_score\n",
    "from sklearn.metrics import confusion_matrix\n",
    "from sklearn.metrics import classification_report"
   ]
  },
  {
   "cell_type": "code",
   "execution_count": 3,
   "id": "23dbe2aa",
   "metadata": {},
   "outputs": [
    {
     "ename": "AttributeError",
     "evalue": "module 'sklearn.metrics' has no attribute 'jaccard_similarity_score'",
     "output_type": "error",
     "traceback": [
      "\u001b[1;31m---------------------------------------------------------------------------\u001b[0m",
      "\u001b[1;31mAttributeError\u001b[0m                            Traceback (most recent call last)",
      "Input \u001b[1;32mIn [3]\u001b[0m, in \u001b[0;36m<cell line: 6>\u001b[1;34m()\u001b[0m\n\u001b[0;32m      4\u001b[0m \u001b[38;5;28;01mimport\u001b[39;00m \u001b[38;5;21;01mseaborn\u001b[39;00m \u001b[38;5;28;01mas\u001b[39;00m \u001b[38;5;21;01msns\u001b[39;00m\n\u001b[0;32m      5\u001b[0m \u001b[38;5;28;01mimport\u001b[39;00m \u001b[38;5;21;01mitertools\u001b[39;00m\n\u001b[1;32m----> 6\u001b[0m \u001b[38;5;28;01mimport\u001b[39;00m \u001b[38;5;21;01mpandas_ml\u001b[39;00m \u001b[38;5;28;01mas\u001b[39;00m \u001b[38;5;21;01mpdml\u001b[39;00m\n\u001b[0;32m      7\u001b[0m \u001b[38;5;28;01mfrom\u001b[39;00m \u001b[38;5;21;01mpandas_ml\u001b[39;00m \u001b[38;5;28;01mimport\u001b[39;00m ConfusionMatrix\n\u001b[0;32m      8\u001b[0m \u001b[38;5;66;03m# from sklearn.ensemble import RandomForestClassifier\u001b[39;00m\n\u001b[0;32m      9\u001b[0m \u001b[38;5;66;03m# from sklearn.model_selection import cross_val_score\u001b[39;00m\n",
      "File \u001b[1;32m~\\anaconda3\\lib\\site-packages\\pandas_ml\\__init__.py:3\u001b[0m, in \u001b[0;36m<module>\u001b[1;34m\u001b[0m\n\u001b[0;32m      1\u001b[0m \u001b[38;5;66;03m#!/usr/bin/env python\u001b[39;00m\n\u001b[1;32m----> 3\u001b[0m \u001b[38;5;28;01mfrom\u001b[39;00m \u001b[38;5;21;01mpandas_ml\u001b[39;00m\u001b[38;5;21;01m.\u001b[39;00m\u001b[38;5;21;01mcore\u001b[39;00m \u001b[38;5;28;01mimport\u001b[39;00m ModelFrame, ModelSeries       \u001b[38;5;66;03m# noqa\u001b[39;00m\n\u001b[0;32m      4\u001b[0m \u001b[38;5;28;01mfrom\u001b[39;00m \u001b[38;5;21;01mpandas_ml\u001b[39;00m\u001b[38;5;21;01m.\u001b[39;00m\u001b[38;5;21;01mtools\u001b[39;00m \u001b[38;5;28;01mimport\u001b[39;00m info                         \u001b[38;5;66;03m# noqa\u001b[39;00m\n\u001b[0;32m      5\u001b[0m \u001b[38;5;28;01mfrom\u001b[39;00m \u001b[38;5;21;01mpandas_ml\u001b[39;00m\u001b[38;5;21;01m.\u001b[39;00m\u001b[38;5;21;01mversion\u001b[39;00m \u001b[38;5;28;01mimport\u001b[39;00m version \u001b[38;5;28;01mas\u001b[39;00m __version__     \u001b[38;5;66;03m# noqa\u001b[39;00m\n",
      "File \u001b[1;32m~\\anaconda3\\lib\\site-packages\\pandas_ml\\core\\__init__.py:3\u001b[0m, in \u001b[0;36m<module>\u001b[1;34m\u001b[0m\n\u001b[0;32m      1\u001b[0m \u001b[38;5;66;03m#!/usr/bin/env python\u001b[39;00m\n\u001b[1;32m----> 3\u001b[0m \u001b[38;5;28;01mfrom\u001b[39;00m \u001b[38;5;21;01mpandas_ml\u001b[39;00m\u001b[38;5;21;01m.\u001b[39;00m\u001b[38;5;21;01mcore\u001b[39;00m\u001b[38;5;21;01m.\u001b[39;00m\u001b[38;5;21;01mframe\u001b[39;00m \u001b[38;5;28;01mimport\u001b[39;00m ModelFrame       \u001b[38;5;66;03m# noqa\u001b[39;00m\n\u001b[0;32m      4\u001b[0m \u001b[38;5;28;01mfrom\u001b[39;00m \u001b[38;5;21;01mpandas_ml\u001b[39;00m\u001b[38;5;21;01m.\u001b[39;00m\u001b[38;5;21;01mcore\u001b[39;00m\u001b[38;5;21;01m.\u001b[39;00m\u001b[38;5;21;01mseries\u001b[39;00m \u001b[38;5;28;01mimport\u001b[39;00m ModelSeries\n",
      "File \u001b[1;32m~\\anaconda3\\lib\\site-packages\\pandas_ml\\core\\frame.py:10\u001b[0m, in \u001b[0;36m<module>\u001b[1;34m\u001b[0m\n\u001b[0;32m      7\u001b[0m \u001b[38;5;28;01mimport\u001b[39;00m \u001b[38;5;21;01mpandas\u001b[39;00m\u001b[38;5;21;01m.\u001b[39;00m\u001b[38;5;21;01mcompat\u001b[39;00m \u001b[38;5;28;01mas\u001b[39;00m \u001b[38;5;21;01mcompat\u001b[39;00m\n\u001b[0;32m      9\u001b[0m \u001b[38;5;28;01mimport\u001b[39;00m \u001b[38;5;21;01mpandas_ml\u001b[39;00m\u001b[38;5;21;01m.\u001b[39;00m\u001b[38;5;21;01mimbaccessors\u001b[39;00m \u001b[38;5;28;01mas\u001b[39;00m \u001b[38;5;21;01mimbaccessors\u001b[39;00m\n\u001b[1;32m---> 10\u001b[0m \u001b[38;5;28;01mimport\u001b[39;00m \u001b[38;5;21;01mpandas_ml\u001b[39;00m\u001b[38;5;21;01m.\u001b[39;00m\u001b[38;5;21;01mskaccessors\u001b[39;00m \u001b[38;5;28;01mas\u001b[39;00m \u001b[38;5;21;01mskaccessors\u001b[39;00m\n\u001b[0;32m     11\u001b[0m \u001b[38;5;28;01mimport\u001b[39;00m \u001b[38;5;21;01mpandas_ml\u001b[39;00m\u001b[38;5;21;01m.\u001b[39;00m\u001b[38;5;21;01msmaccessors\u001b[39;00m \u001b[38;5;28;01mas\u001b[39;00m \u001b[38;5;21;01msmaccessors\u001b[39;00m\n\u001b[0;32m     12\u001b[0m \u001b[38;5;28;01mimport\u001b[39;00m \u001b[38;5;21;01mpandas_ml\u001b[39;00m\u001b[38;5;21;01m.\u001b[39;00m\u001b[38;5;21;01msnsaccessors\u001b[39;00m \u001b[38;5;28;01mas\u001b[39;00m \u001b[38;5;21;01msnsaccessors\u001b[39;00m\n",
      "File \u001b[1;32m~\\anaconda3\\lib\\site-packages\\pandas_ml\\skaccessors\\__init__.py:15\u001b[0m, in \u001b[0;36m<module>\u001b[1;34m\u001b[0m\n\u001b[0;32m     13\u001b[0m \u001b[38;5;28;01mfrom\u001b[39;00m \u001b[38;5;21;01mpandas_ml\u001b[39;00m\u001b[38;5;21;01m.\u001b[39;00m\u001b[38;5;21;01mskaccessors\u001b[39;00m\u001b[38;5;21;01m.\u001b[39;00m\u001b[38;5;21;01mlinear_model\u001b[39;00m \u001b[38;5;28;01mimport\u001b[39;00m LinearModelMethods                 \u001b[38;5;66;03m# noqa\u001b[39;00m\n\u001b[0;32m     14\u001b[0m \u001b[38;5;28;01mfrom\u001b[39;00m \u001b[38;5;21;01mpandas_ml\u001b[39;00m\u001b[38;5;21;01m.\u001b[39;00m\u001b[38;5;21;01mskaccessors\u001b[39;00m\u001b[38;5;21;01m.\u001b[39;00m\u001b[38;5;21;01mmanifold\u001b[39;00m \u001b[38;5;28;01mimport\u001b[39;00m ManifoldMethods                        \u001b[38;5;66;03m# noqa\u001b[39;00m\n\u001b[1;32m---> 15\u001b[0m \u001b[38;5;28;01mfrom\u001b[39;00m \u001b[38;5;21;01mpandas_ml\u001b[39;00m\u001b[38;5;21;01m.\u001b[39;00m\u001b[38;5;21;01mskaccessors\u001b[39;00m\u001b[38;5;21;01m.\u001b[39;00m\u001b[38;5;21;01mmetrics\u001b[39;00m \u001b[38;5;28;01mimport\u001b[39;00m MetricsMethods                          \u001b[38;5;66;03m# noqa\u001b[39;00m\n\u001b[0;32m     16\u001b[0m \u001b[38;5;28;01mfrom\u001b[39;00m \u001b[38;5;21;01mpandas_ml\u001b[39;00m\u001b[38;5;21;01m.\u001b[39;00m\u001b[38;5;21;01mskaccessors\u001b[39;00m\u001b[38;5;21;01m.\u001b[39;00m\u001b[38;5;21;01mmodel_selection\u001b[39;00m \u001b[38;5;28;01mimport\u001b[39;00m ModelSelectionMethods           \u001b[38;5;66;03m# noqa\u001b[39;00m\n\u001b[0;32m     17\u001b[0m \u001b[38;5;28;01mfrom\u001b[39;00m \u001b[38;5;21;01mpandas_ml\u001b[39;00m\u001b[38;5;21;01m.\u001b[39;00m\u001b[38;5;21;01mskaccessors\u001b[39;00m\u001b[38;5;21;01m.\u001b[39;00m\u001b[38;5;21;01mneighbors\u001b[39;00m \u001b[38;5;28;01mimport\u001b[39;00m NeighborsMethods                      \u001b[38;5;66;03m# noqa\u001b[39;00m\n",
      "File \u001b[1;32m~\\anaconda3\\lib\\site-packages\\pandas_ml\\skaccessors\\metrics.py:256\u001b[0m, in \u001b[0;36m<module>\u001b[1;34m\u001b[0m\n\u001b[0;32m    253\u001b[0m _cluster_methods \u001b[38;5;241m=\u001b[39m [\u001b[38;5;124m'\u001b[39m\u001b[38;5;124mmutual_info_score\u001b[39m\u001b[38;5;124m'\u001b[39m]\n\u001b[0;32m    254\u001b[0m _true_pred_methods \u001b[38;5;241m=\u001b[39m (_classification_methods \u001b[38;5;241m+\u001b[39m _regression_methods\n\u001b[0;32m    255\u001b[0m                       \u001b[38;5;241m+\u001b[39m _cluster_methods)\n\u001b[1;32m--> 256\u001b[0m \u001b[43m_attach_methods\u001b[49m\u001b[43m(\u001b[49m\u001b[43mMetricsMethods\u001b[49m\u001b[43m,\u001b[49m\u001b[43m \u001b[49m\u001b[43m_wrap_target_pred_func\u001b[49m\u001b[43m,\u001b[49m\u001b[43m \u001b[49m\u001b[43m_true_pred_methods\u001b[49m\u001b[43m)\u001b[49m\n\u001b[0;32m    259\u001b[0m \u001b[38;5;66;03m# methods which doesn't take additional arguments\u001b[39;00m\n\u001b[0;32m    260\u001b[0m _cluster_methods_noargs \u001b[38;5;241m=\u001b[39m [\u001b[38;5;124m'\u001b[39m\u001b[38;5;124madjusted_mutual_info_score\u001b[39m\u001b[38;5;124m'\u001b[39m,\n\u001b[0;32m    261\u001b[0m                            \u001b[38;5;124m'\u001b[39m\u001b[38;5;124madjusted_rand_score\u001b[39m\u001b[38;5;124m'\u001b[39m,\n\u001b[0;32m    262\u001b[0m                            \u001b[38;5;124m'\u001b[39m\u001b[38;5;124mcompleteness_score\u001b[39m\u001b[38;5;124m'\u001b[39m,\n\u001b[1;32m   (...)\u001b[0m\n\u001b[0;32m    265\u001b[0m                            \u001b[38;5;124m'\u001b[39m\u001b[38;5;124mnormalized_mutual_info_score\u001b[39m\u001b[38;5;124m'\u001b[39m,\n\u001b[0;32m    266\u001b[0m                            \u001b[38;5;124m'\u001b[39m\u001b[38;5;124mv_measure_score\u001b[39m\u001b[38;5;124m'\u001b[39m]\n",
      "File \u001b[1;32m~\\anaconda3\\lib\\site-packages\\pandas_ml\\core\\accessor.py:93\u001b[0m, in \u001b[0;36m_attach_methods\u001b[1;34m(cls, wrap_func, methods)\u001b[0m\n\u001b[0;32m     90\u001b[0m module \u001b[38;5;241m=\u001b[39m importlib\u001b[38;5;241m.\u001b[39mimport_module(\u001b[38;5;28mcls\u001b[39m\u001b[38;5;241m.\u001b[39m_module_name)\n\u001b[0;32m     92\u001b[0m \u001b[38;5;28;01mfor\u001b[39;00m method \u001b[38;5;129;01min\u001b[39;00m methods:\n\u001b[1;32m---> 93\u001b[0m     _f \u001b[38;5;241m=\u001b[39m \u001b[38;5;28;43mgetattr\u001b[39;49m\u001b[43m(\u001b[49m\u001b[43mmodule\u001b[49m\u001b[43m,\u001b[49m\u001b[43m \u001b[49m\u001b[43mmethod\u001b[49m\u001b[43m)\u001b[49m\n\u001b[0;32m     94\u001b[0m     \u001b[38;5;28;01mif\u001b[39;00m \u001b[38;5;28mhasattr\u001b[39m(\u001b[38;5;28mcls\u001b[39m, method):\n\u001b[0;32m     95\u001b[0m         \u001b[38;5;28;01mraise\u001b[39;00m \u001b[38;5;167;01mValueError\u001b[39;00m(\u001b[38;5;124m\"\u001b[39m\u001b[38;5;132;01m{0}\u001b[39;00m\u001b[38;5;124m already has \u001b[39m\u001b[38;5;124m'\u001b[39m\u001b[38;5;132;01m{1}\u001b[39;00m\u001b[38;5;124m'\u001b[39m\u001b[38;5;124m method\u001b[39m\u001b[38;5;124m\"\u001b[39m\u001b[38;5;241m.\u001b[39mformat(\u001b[38;5;28mcls\u001b[39m, method))\n",
      "\u001b[1;31mAttributeError\u001b[0m: module 'sklearn.metrics' has no attribute 'jaccard_similarity_score'"
     ]
    }
   ],
   "source": [
    "# from sklearn.tree import export_graphviz\n",
    "\n",
    "import pydot\n",
    "import seaborn as sns\n",
    "import itertools\n",
    "import pandas_ml as pdml\n",
    "from pandas_ml import ConfusionMatrix\n",
    "# from sklearn.ensemble import RandomForestClassifier\n",
    "# from sklearn.model_selection import cross_val_score\n",
    "import matplotlib.pyplot as plt\n"
   ]
  },
  {
   "cell_type": "code",
   "execution_count": null,
   "id": "b47039a3",
   "metadata": {},
   "outputs": [],
   "source": [
    "import numpy as np\n",
    "import pandas as pd\n",
    "import matplotlib.pyplot as plt\n",
    "import pydot\n",
    "import seaborn as sns\n",
    "import itertools"
   ]
  },
  {
   "cell_type": "code",
   "execution_count": null,
   "id": "689015d8",
   "metadata": {},
   "outputs": [],
   "source": [
    "df = pd.read_csv('Global_Landslide_Final.csv')"
   ]
  },
  {
   "cell_type": "code",
   "execution_count": null,
   "id": "889ced1f",
   "metadata": {},
   "outputs": [],
   "source": [
    "df"
   ]
  },
  {
   "cell_type": "code",
   "execution_count": null,
   "id": "e2cca809",
   "metadata": {},
   "outputs": [],
   "source": [
    "df.shape # See how many data objects & attributes we have\n",
    "df.head(5) # View first 5 data objects\n",
    "df.landslide_trigger.unique()"
   ]
  },
  {
   "cell_type": "code",
   "execution_count": null,
   "id": "936f26aa",
   "metadata": {},
   "outputs": [],
   "source": [
    "df = df.drop(columns=['formatted_date','event_date','event_day','event_title',\n",
    "                      'event_id','event_description','location_description',\n",
    "                      'location_accuracy','gazeteer_closest_point', 'country_code','gazeteer_distance'])\n",
    "df = df.dropna(subset=['landslide_trigger'])"
   ]
  },
  {
   "cell_type": "code",
   "execution_count": null,
   "id": "8f3edcff",
   "metadata": {},
   "outputs": [],
   "source": [
    "df"
   ]
  },
  {
   "cell_type": "code",
   "execution_count": null,
   "id": "9d4e3a66",
   "metadata": {},
   "outputs": [],
   "source": [
    "df['fatality_count'].fillna((df['fatality_count'].median()), inplace=True)\n",
    "df['injury_count'].fillna((df['injury_count'].median()), inplace=True)\n",
    "df['population'].fillna((df['population'].median()), inplace=True)"
   ]
  },
  {
   "cell_type": "code",
   "execution_count": null,
   "id": "b6830158",
   "metadata": {},
   "outputs": [],
   "source": [
    "df"
   ]
  },
  {
   "cell_type": "code",
   "execution_count": null,
   "id": "c549d8f0",
   "metadata": {},
   "outputs": [],
   "source": [
    "# Delete attribute values that we don't want to classify:\n",
    "df = df[df.landslide_size != \"catastrophic\"]\n",
    "df = df[df.landslide_category != \"unknown\"]\n",
    "df = df[df.landslide_category != \"other\"]\n",
    "df = df[df.country_name != \"NaN\"]\n"
   ]
  },
  {
   "cell_type": "code",
   "execution_count": null,
   "id": "3ffb4871",
   "metadata": {},
   "outputs": [],
   "source": [
    "df"
   ]
  },
  {
   "cell_type": "code",
   "execution_count": null,
   "id": "ff8d6919",
   "metadata": {},
   "outputs": [],
   "source": [
    "# Update trigger values so reduce unnessessary unique values\n",
    "df['event_time'] = df['event_time'].replace('unknown', 'NaN')"
   ]
  },
  {
   "cell_type": "code",
   "execution_count": null,
   "id": "dbdcb705",
   "metadata": {},
   "outputs": [],
   "source": [
    "df"
   ]
  },
  {
   "cell_type": "code",
   "execution_count": null,
   "id": "0230b9d4",
   "metadata": {},
   "outputs": [],
   "source": [
    "# Update landlside size values so reduce unnessessary unique values\n",
    "df['landslide_size'] = df['landslide_size'].replace('very_large', 'large')\n",
    "print('Landslide triggers:', df.landslide_trigger.unique())"
   ]
  },
  {
   "cell_type": "code",
   "execution_count": null,
   "id": "0aea0c08",
   "metadata": {},
   "outputs": [],
   "source": [
    "pd.value_counts(df['landslide_trigger']).plot.bar()\n",
    "plt.title('Landslide Trigger Distribution')\n",
    "plt.xlabel('Class')\n",
    "plt.ylabel('Data Objects')\n",
    "df['landslide_trigger'].value_counts()"
   ]
  },
  {
   "cell_type": "code",
   "execution_count": null,
   "id": "b79ca36c",
   "metadata": {},
   "outputs": [],
   "source": [
    "# Make sure all categorical data is string value only\n",
    "df['event_time'] = df['event_time'].astype(str)\n",
    "df['landslide_category'] = df['landslide_category'].astype(str) \n",
    "df['country_name'] = df['country_name'].astype(str) #make sure all country name values are strings\n"
   ]
  },
  {
   "cell_type": "code",
   "execution_count": null,
   "id": "41a089db",
   "metadata": {},
   "outputs": [],
   "source": [
    "df"
   ]
  },
  {
   "cell_type": "code",
   "execution_count": null,
   "id": "379cb8c9",
   "metadata": {},
   "outputs": [],
   "source": [
    "# Label Encode our categorical data with dummy variables\n",
    "df = pd.get_dummies(df, prefix=['event_time','country_name','landslide_category','landslide_size'], \n",
    "                    columns=['event_time','country_name','landslide_category','landslide_size'])"
   ]
  },
  {
   "cell_type": "code",
   "execution_count": null,
   "id": "d5465ca6",
   "metadata": {},
   "outputs": [],
   "source": [
    "df"
   ]
  },
  {
   "cell_type": "code",
   "execution_count": null,
   "id": "ee35bf62",
   "metadata": {},
   "outputs": [],
   "source": [
    "df[\"landslide_trigger\"] = df[\"landslide_trigger\"].astype('category')\n",
    "df[\"landslide_trigger\"] = df[\"landslide_trigger\"].cat.codes\n",
    "df.head(5)"
   ]
  },
  {
   "cell_type": "code",
   "execution_count": null,
   "id": "29464e35",
   "metadata": {},
   "outputs": [],
   "source": [
    "# Split our labels into their own array\n",
    "Y = np.array(df['landslide_trigger'])  # values we want to predict\n",
    "# Remove the labels from the features, axis 1 refers to the col\n",
    "df = df.drop('landslide_trigger',axis=1)"
   ]
  },
  {
   "cell_type": "code",
   "execution_count": null,
   "id": "574ad6c6",
   "metadata": {},
   "outputs": [],
   "source": [
    "df"
   ]
  },
  {
   "cell_type": "code",
   "execution_count": 4,
   "id": "14a10fac",
   "metadata": {
    "scrolled": true
   },
   "outputs": [
    {
     "ename": "NameError",
     "evalue": "name 'df' is not defined",
     "output_type": "error",
     "traceback": [
      "\u001b[1;31m---------------------------------------------------------------------------\u001b[0m",
      "\u001b[1;31mNameError\u001b[0m                                 Traceback (most recent call last)",
      "Input \u001b[1;32mIn [4]\u001b[0m, in \u001b[0;36m<cell line: 1>\u001b[1;34m()\u001b[0m\n\u001b[1;32m----> 1\u001b[0m feature_list \u001b[38;5;241m=\u001b[39m \u001b[38;5;28mlist\u001b[39m(\u001b[43mdf\u001b[49m\u001b[38;5;241m.\u001b[39mcolumns)\n\u001b[0;32m      2\u001b[0m X \u001b[38;5;241m=\u001b[39m df\u001b[38;5;241m.\u001b[39mas_matrix()\n",
      "\u001b[1;31mNameError\u001b[0m: name 'df' is not defined"
     ]
    }
   ],
   "source": [
    "\n",
    "\n",
    "feature_list = list(df.columns)\n",
    "X = df.as_matrix() # Holds our data objects and attributes"
   ]
  },
  {
   "cell_type": "code",
   "execution_count": null,
   "id": "862b0e70",
   "metadata": {},
   "outputs": [],
   "source": []
  }
 ],
 "metadata": {
  "kernelspec": {
   "display_name": "Python 3 (ipykernel)",
   "language": "python",
   "name": "python3"
  },
  "language_info": {
   "codemirror_mode": {
    "name": "ipython",
    "version": 3
   },
   "file_extension": ".py",
   "mimetype": "text/x-python",
   "name": "python",
   "nbconvert_exporter": "python",
   "pygments_lexer": "ipython3",
   "version": "3.9.12"
  }
 },
 "nbformat": 4,
 "nbformat_minor": 5
}
